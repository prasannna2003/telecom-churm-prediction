{
  "metadata": {
    "kernelspec": {
      "display_name": "Python 3",
      "language": "python",
      "name": "python3"
    },
    "language_info": {
      "name": "python",
      "version": "3.6.6",
      "mimetype": "text/x-python",
      "codemirror_mode": {
        "name": "ipython",
        "version": 3
      },
      "pygments_lexer": "ipython3",
      "nbconvert_exporter": "python",
      "file_extension": ".py"
    },
    "kaggle": {
      "accelerator": "none",
      "dataSources": [
        {
          "sourceId": 18858,
          "sourceType": "datasetVersion",
          "datasetId": 13996
        }
      ],
      "dockerImageVersionId": 9579,
      "isInternetEnabled": false,
      "language": "python",
      "sourceType": "notebook",
      "isGpuEnabled": false
    },
    "colab": {
      "name": "telecom churn prediction for data analytics",
      "provenance": []
    }
  },
  "nbformat_minor": 0,
  "nbformat": 4,
  "cells": [
    {
      "source": [
        "\n",
        "# IMPORTANT: RUN THIS CELL IN ORDER TO IMPORT YOUR KAGGLE DATA SOURCES\n",
        "# TO THE CORRECT LOCATION (/kaggle/input) IN YOUR NOTEBOOK,\n",
        "# THEN FEEL FREE TO DELETE THIS CELL.\n",
        "# NOTE: THIS NOTEBOOK ENVIRONMENT DIFFERS FROM KAGGLE'S PYTHON\n",
        "# ENVIRONMENT SO THERE MAY BE MISSING LIBRARIES USED BY YOUR\n",
        "# NOTEBOOK.\n",
        "\n",
        "import os\n",
        "import sys\n",
        "from tempfile import NamedTemporaryFile\n",
        "from urllib.request import urlopen\n",
        "from urllib.parse import unquote, urlparse\n",
        "from urllib.error import HTTPError\n",
        "from zipfile import ZipFile\n",
        "import tarfile\n",
        "import shutil\n",
        "\n",
        "CHUNK_SIZE = 40960\n",
        "DATA_SOURCE_MAPPING = ':https%3A%2F%2Fstorage.googleapis.com%2Fkaggle-data-sets%2F13996%2F18858%2Fbundle%2Farchive.zip%3FX-Goog-Algorithm%3DGOOG4-RSA-SHA256%26X-Goog-Credential%3Dgcp-kaggle-com%2540kaggle-161607.iam.gserviceaccount.com%252F20240404%252Fauto%252Fstorage%252Fgoog4_request%26X-Goog-Date%3D20240404T163918Z%26X-Goog-Expires%3D259200%26X-Goog-SignedHeaders%3Dhost%26X-Goog-Signature%3D9ccf19d0574d7aa0989d748d0bb7cc576d0e5497c972d08cb8ee85b2521e9f0fbb43acd8b88554fa1923387c684021209aae9562c44c39f2210d999fc8f8ba56c720775b51fb98443e7b5f8b565a2d2b42684ea92351a74be538ca7af2af42e1e7f6d90725d1e60c893ebf375b55d7fb9d5d03bb0aefcdaab2d4347da001e3a639a18ce9a49b149864f4ec1fbd22259f5553e100fe2fec73de83321b401d4d5ae88810364aff801a3d22dab24e0249f2e8b560ec102e5688fcb4b475a78fdc37b31efd00705e0ce37912ffacd79615a8a4be4ae3ed9dda83d057ff61d700b71abd181f433115110da19815d4f0586a6b6d17d6a22fd32ffdfc8c59f80c6043d7'\n",
        "\n",
        "KAGGLE_INPUT_PATH='/kaggle/input'\n",
        "KAGGLE_WORKING_PATH='/kaggle/working'\n",
        "KAGGLE_SYMLINK='kaggle'\n",
        "\n",
        "!umount /kaggle/input/ 2> /dev/null\n",
        "shutil.rmtree('/kaggle/input', ignore_errors=True)\n",
        "os.makedirs(KAGGLE_INPUT_PATH, 0o777, exist_ok=True)\n",
        "os.makedirs(KAGGLE_WORKING_PATH, 0o777, exist_ok=True)\n",
        "\n",
        "try:\n",
        "  os.symlink(KAGGLE_INPUT_PATH, os.path.join(\"..\", 'input'), target_is_directory=True)\n",
        "except FileExistsError:\n",
        "  pass\n",
        "try:\n",
        "  os.symlink(KAGGLE_WORKING_PATH, os.path.join(\"..\", 'working'), target_is_directory=True)\n",
        "except FileExistsError:\n",
        "  pass\n",
        "\n",
        "for data_source_mapping in DATA_SOURCE_MAPPING.split(','):\n",
        "    directory, download_url_encoded = data_source_mapping.split(':')\n",
        "    download_url = unquote(download_url_encoded)\n",
        "    filename = urlparse(download_url).path\n",
        "    destination_path = os.path.join(KAGGLE_INPUT_PATH, directory)\n",
        "    try:\n",
        "        with urlopen(download_url) as fileres, NamedTemporaryFile() as tfile:\n",
        "            total_length = fileres.headers['content-length']\n",
        "            print(f'Downloading {directory}, {total_length} bytes compressed')\n",
        "            dl = 0\n",
        "            data = fileres.read(CHUNK_SIZE)\n",
        "            while len(data) > 0:\n",
        "                dl += len(data)\n",
        "                tfile.write(data)\n",
        "                done = int(50 * dl / int(total_length))\n",
        "                sys.stdout.write(f\"\\r[{'=' * done}{' ' * (50-done)}] {dl} bytes downloaded\")\n",
        "                sys.stdout.flush()\n",
        "                data = fileres.read(CHUNK_SIZE)\n",
        "            if filename.endswith('.zip'):\n",
        "              with ZipFile(tfile) as zfile:\n",
        "                zfile.extractall(destination_path)\n",
        "            else:\n",
        "              with tarfile.open(tfile.name) as tarfile:\n",
        "                tarfile.extractall(destination_path)\n",
        "            print(f'\\nDownloaded and uncompressed: {directory}')\n",
        "    except HTTPError as e:\n",
        "        print(f'Failed to load (likely expired) {download_url} to path {destination_path}')\n",
        "        continue\n",
        "    except OSError as e:\n",
        "        print(f'Failed to load {download_url} to path {destination_path}')\n",
        "        continue\n",
        "\n",
        "print('Data source import complete.')\n"
      ],
      "metadata": {
        "id": "7GFxxSJi-rKs"
      },
      "cell_type": "code",
      "outputs": [],
      "execution_count": null
    },
    {
      "cell_type": "markdown",
      "source": [
        "# EDA and Prediction"
      ],
      "metadata": {
        "_uuid": "3544313683eb7fc71db62dea38a54a3482efec26",
        "id": "D0pCwbBv-rK-"
      }
    },
    {
      "cell_type": "markdown",
      "source": [
        "Churn is a one of the biggest problem in  the telecom industry. Research has shown that the average monthly churn rate among the top 4 wireless carriers in the US is 1.9% - 2%."
      ],
      "metadata": {
        "_uuid": "db15e9d14568dbe9d4091a9efe0dd1fd946b137a",
        "id": "4WNqxBEH-rLH"
      }
    },
    {
      "cell_type": "code",
      "source": [
        "import numpy as np # linear algebra\n",
        "import pandas as pd # data processing, CSV file I/O (e.g. pd.read_csv)\n",
        "import seaborn as sns # For creating plots\n",
        "import matplotlib.ticker as mtick # For specifying the axes tick format\n",
        "import matplotlib.pyplot as plt\n",
        "\n",
        "sns.set(style = 'white')\n",
        "\n",
        "# Input data files are available in the \"../input/\" directory.\n",
        "\n",
        "import os\n",
        "print(os.listdir(\"../input\"))\n",
        "\n",
        "# Any results you write to the current directory are saved as output."
      ],
      "metadata": {
        "_uuid": "8f2839f25d086af736a60e9eeb907d3b93b6e0e5",
        "_cell_guid": "b1076dfc-b9ad-4769-8c92-a6c4dae69d19",
        "execution": {
          "iopub.status.busy": "2024-04-04T16:27:35.938124Z",
          "iopub.execute_input": "2024-04-04T16:27:35.938581Z",
          "iopub.status.idle": "2024-04-04T16:27:36.811763Z",
          "shell.execute_reply.started": "2024-04-04T16:27:35.938526Z",
          "shell.execute_reply": "2024-04-04T16:27:36.810978Z"
        },
        "trusted": true,
        "id": "4FGhlJKE-rLI"
      },
      "execution_count": null,
      "outputs": []
    },
    {
      "cell_type": "markdown",
      "source": [
        "**Let us read the data file in the python notebook**"
      ],
      "metadata": {
        "_uuid": "72e4750b2861fe4d89197b4c73ad861544701c4f",
        "id": "oW5Ipxgc-rLK"
      }
    },
    {
      "cell_type": "code",
      "source": [
        "telecom_cust = pd.read_csv('../input/WA_Fn-UseC_-Telco-Customer-Churn.csv')"
      ],
      "metadata": {
        "_cell_guid": "79c7e3d0-c299-4dcb-8224-4455121ee9b0",
        "_uuid": "d629ff2d2480ee46fbb7e2d37f6b5fab8052498a",
        "execution": {
          "iopub.status.busy": "2024-04-04T16:27:36.812931Z",
          "iopub.execute_input": "2024-04-04T16:27:36.813353Z",
          "iopub.status.idle": "2024-04-04T16:27:36.884422Z",
          "shell.execute_reply.started": "2024-04-04T16:27:36.813293Z",
          "shell.execute_reply": "2024-04-04T16:27:36.883119Z"
        },
        "trusted": true,
        "id": "cGVYBduU-rLL"
      },
      "execution_count": null,
      "outputs": []
    },
    {
      "cell_type": "code",
      "source": [
        "telecom_cust.head()"
      ],
      "metadata": {
        "_uuid": "9dc64474af58b8114afb60f83cd1a002722ba74c",
        "scrolled": true,
        "execution": {
          "iopub.status.busy": "2024-04-04T16:27:36.885813Z",
          "iopub.execute_input": "2024-04-04T16:27:36.886057Z",
          "iopub.status.idle": "2024-04-04T16:27:36.947326Z",
          "shell.execute_reply.started": "2024-04-04T16:27:36.886014Z",
          "shell.execute_reply": "2024-04-04T16:27:36.946443Z"
        },
        "trusted": true,
        "id": "9-eFfCtG-rLN"
      },
      "execution_count": null,
      "outputs": []
    },
    {
      "cell_type": "code",
      "source": [
        "telecom_cust.columns.values"
      ],
      "metadata": {
        "_uuid": "d814e5db6f76a4e90b8496f09d0ba340d1eae808",
        "execution": {
          "iopub.status.busy": "2024-04-04T16:27:36.948523Z",
          "iopub.execute_input": "2024-04-04T16:27:36.948967Z",
          "iopub.status.idle": "2024-04-04T16:27:36.956668Z",
          "shell.execute_reply.started": "2024-04-04T16:27:36.948784Z",
          "shell.execute_reply": "2024-04-04T16:27:36.955528Z"
        },
        "trusted": true,
        "id": "Pqv9tlal-rLP"
      },
      "execution_count": null,
      "outputs": []
    },
    {
      "cell_type": "markdown",
      "source": [
        "**Let's explore the data to see if there are any missing values.**"
      ],
      "metadata": {
        "_uuid": "16fb2729865787705742df465100419d7988837c",
        "id": "s8tw7acK-rLU"
      }
    },
    {
      "cell_type": "code",
      "source": [
        "# Checking the data types of all the columns\n",
        "telecom_cust.dtypes"
      ],
      "metadata": {
        "_uuid": "641531c5f3131228c78e6a200e0410a161ccb2b0",
        "execution": {
          "iopub.status.busy": "2024-04-04T16:27:36.9579Z",
          "iopub.execute_input": "2024-04-04T16:27:36.958484Z",
          "iopub.status.idle": "2024-04-04T16:27:36.970784Z",
          "shell.execute_reply.started": "2024-04-04T16:27:36.958425Z",
          "shell.execute_reply": "2024-04-04T16:27:36.969429Z"
        },
        "trusted": true,
        "id": "vbPpXiHt-rLV"
      },
      "execution_count": null,
      "outputs": []
    },
    {
      "cell_type": "code",
      "source": [
        "# Converting Total Charges to a numerical data type.\n",
        "telecom_cust.TotalCharges = pd.to_numeric(telecom_cust.TotalCharges, errors='coerce')\n",
        "telecom_cust.isnull().sum()"
      ],
      "metadata": {
        "_uuid": "1d2c01029124a6fe73b3ec3fc4efdb66647d64e1",
        "execution": {
          "iopub.status.busy": "2024-04-04T16:27:36.972339Z",
          "iopub.execute_input": "2024-04-04T16:27:36.972706Z",
          "iopub.status.idle": "2024-04-04T16:27:36.995795Z",
          "shell.execute_reply.started": "2024-04-04T16:27:36.972635Z",
          "shell.execute_reply": "2024-04-04T16:27:36.994791Z"
        },
        "trusted": true,
        "id": "PON6wZwO-rLX"
      },
      "execution_count": null,
      "outputs": []
    },
    {
      "cell_type": "markdown",
      "source": [
        "After looking at the above output, we can say that there are 11 missing values for Total Charges. Let us replace remove these 11 rows from our data set"
      ],
      "metadata": {
        "_uuid": "4c997dec9dbb501333f6a1562e9092e1008df58f",
        "id": "ghidHrBe-rLY"
      }
    },
    {
      "cell_type": "code",
      "source": [
        "#Removing missing values\n",
        "telecom_cust.dropna(inplace = True)\n",
        "#Remove customer IDs from the data set\n",
        "df2 = telecom_cust.iloc[:,1:]\n",
        "#Convertin the predictor variable in a binary numeric variable\n",
        "df2['Churn'].replace(to_replace='Yes', value=1, inplace=True)\n",
        "df2['Churn'].replace(to_replace='No',  value=0, inplace=True)\n",
        "\n",
        "#Let's convert all the categorical variables into dummy variables\n",
        "df_dummies = pd.get_dummies(df2)\n",
        "df_dummies.head()"
      ],
      "metadata": {
        "_uuid": "35b6c18a5b84dd1e5fa014b49fcfce8ee43aaabe",
        "execution": {
          "iopub.status.busy": "2024-04-04T16:27:36.997269Z",
          "iopub.execute_input": "2024-04-04T16:27:36.997571Z",
          "iopub.status.idle": "2024-04-04T16:27:37.115859Z",
          "shell.execute_reply.started": "2024-04-04T16:27:36.997509Z",
          "shell.execute_reply": "2024-04-04T16:27:37.114822Z"
        },
        "trusted": true,
        "id": "TMFi1gdF-rLY"
      },
      "execution_count": null,
      "outputs": []
    },
    {
      "cell_type": "code",
      "source": [
        "#Get Correlation of \"Churn\" with other variables:\n",
        "plt.figure(figsize=(15,8))\n",
        "df_dummies.corr()['Churn'].sort_values(ascending = False).plot(kind='bar')"
      ],
      "metadata": {
        "_uuid": "57fad0b9bcd9188193c84ae48ea589123532eac8",
        "execution": {
          "iopub.status.busy": "2024-04-04T16:27:37.117097Z",
          "iopub.execute_input": "2024-04-04T16:27:37.117423Z",
          "iopub.status.idle": "2024-04-04T16:27:37.647913Z",
          "shell.execute_reply.started": "2024-04-04T16:27:37.117353Z",
          "shell.execute_reply": "2024-04-04T16:27:37.646918Z"
        },
        "trusted": true,
        "id": "wLK-LEYF-rLZ"
      },
      "execution_count": null,
      "outputs": []
    },
    {
      "cell_type": "markdown",
      "source": [
        "Month to month contracts, absence of online security and tech support seem to be positively correlated with churn. While, tenure, two year contracts seem to be negatively correlated with churn.\n",
        "\n",
        "Interestingly, services such as Online security, streaming TV, online backup, tech support, etc. without internet connection seem to be negatively related to churn.\n",
        "\n",
        "We will explore the patterns for the above correlations below before we delve into modelling and identifying the important variables."
      ],
      "metadata": {
        "_uuid": "e4f114358ce3d568a34c1ac419623274a345812e",
        "id": "sPrHAfM8-rLa"
      }
    },
    {
      "cell_type": "markdown",
      "source": [
        "## Data Exploration\n",
        "\n",
        "Let us first start with exploring our data set, to better understand the patterns in the data and potentially form some hypothesis. First we will look at the distribution of individual variables and then slice and dice our data for any interesting trends."
      ],
      "metadata": {
        "_uuid": "36df8a7ca36ca8afe570cc985582ef12bc1bc7f8",
        "id": "l3zU4XKA-rLb"
      }
    },
    {
      "cell_type": "markdown",
      "source": [
        "**A.)** ***Demographics*** - Let us first understand the gender, age range, patner and dependent status of the customers"
      ],
      "metadata": {
        "_uuid": "3755c7c8080f09fc745f8db11d9205102de6780e",
        "id": "jIa-Q0p_-rLb"
      }
    },
    {
      "cell_type": "markdown",
      "source": [
        "1. **Gender Distribution** - About half of the customers in our data set are male while the other half are female"
      ],
      "metadata": {
        "_uuid": "e98209bca3edf4f3ea0d2bdea092b152f09f6bbb",
        "id": "buw0iieM-rLc"
      }
    },
    {
      "cell_type": "code",
      "source": [
        "colors = ['#4D3425','#E4512B']\n",
        "ax = (telecom_cust['gender'].value_counts()*100.0 /len(telecom_cust)).plot(kind='bar',\n",
        "                                                                           stacked = True,\n",
        "                                                                          rot = 0,\n",
        "                                                                          color = colors)\n",
        "ax.yaxis.set_major_formatter(mtick.PercentFormatter())\n",
        "ax.set_ylabel('% Customers')\n",
        "ax.set_xlabel('Gender')\n",
        "ax.set_ylabel('% Customers')\n",
        "ax.set_title('Gender Distribution')\n",
        "\n",
        "# create a list to collect the plt.patches data\n",
        "totals = []\n",
        "\n",
        "# find the values and append to list\n",
        "for i in ax.patches:\n",
        "    totals.append(i.get_width())\n",
        "\n",
        "# set individual bar lables using above list\n",
        "total = sum(totals)\n",
        "\n",
        "for i in ax.patches:\n",
        "    # get_width pulls left or right; get_y pushes up or down\n",
        "    ax.text(i.get_x()+.15, i.get_height()-3.5, \\\n",
        "            str(round((i.get_height()/total), 1))+'%',\n",
        "            fontsize=12,\n",
        "            color='white',\n",
        "           weight = 'bold')"
      ],
      "metadata": {
        "_uuid": "d507f49a7e96b7618b57e0812eed8847543b1c64",
        "execution": {
          "iopub.status.busy": "2024-04-04T16:27:37.649183Z",
          "iopub.execute_input": "2024-04-04T16:27:37.649668Z",
          "iopub.status.idle": "2024-04-04T16:27:37.796058Z",
          "shell.execute_reply.started": "2024-04-04T16:27:37.649586Z",
          "shell.execute_reply": "2024-04-04T16:27:37.795028Z"
        },
        "trusted": true,
        "id": "Mshiv80V-rLc"
      },
      "execution_count": null,
      "outputs": []
    },
    {
      "cell_type": "markdown",
      "source": [
        "2. **% Senior Citizens** - There are only 16% of the customers who are senior citizens. Thus most of our customers in the data are younger people.\n"
      ],
      "metadata": {
        "_uuid": "b9cceb14a980ddcd1ac36552947f1571706e0c17",
        "trusted": true,
        "id": "WBOCPrss-rLd"
      }
    },
    {
      "cell_type": "code",
      "source": [
        "ax = (telecom_cust['SeniorCitizen'].value_counts()*100.0 /len(telecom_cust))\\\n",
        ".plot.pie(autopct='%.1f%%', labels = ['No', 'Yes'],figsize =(5,5), fontsize = 12 )\n",
        "ax.yaxis.set_major_formatter(mtick.PercentFormatter())\n",
        "ax.set_ylabel('Senior Citizens',fontsize = 12)\n",
        "ax.set_title('% of Senior Citizens', fontsize = 12)"
      ],
      "metadata": {
        "_uuid": "b552f24e928a6e41806ddfa10f49c331988e60e3",
        "execution": {
          "iopub.status.busy": "2024-04-04T16:27:37.801257Z",
          "iopub.execute_input": "2024-04-04T16:27:37.801674Z",
          "iopub.status.idle": "2024-04-04T16:27:37.873779Z",
          "shell.execute_reply.started": "2024-04-04T16:27:37.801567Z",
          "shell.execute_reply": "2024-04-04T16:27:37.873028Z"
        },
        "trusted": true,
        "id": "PpoqEnWI-rLe"
      },
      "execution_count": null,
      "outputs": []
    },
    {
      "cell_type": "markdown",
      "source": [
        "3. **Partner and dependent status**  - About 50% of the customers have a partner, while only 30% of the total customers have dependents."
      ],
      "metadata": {
        "_uuid": "ae9ffa571dcf10f3cb0d8dc56e827cdf25fcf4e5",
        "trusted": true,
        "id": "Dz2p19OT-rLf"
      }
    },
    {
      "cell_type": "code",
      "source": [
        "df2 = pd.melt(telecom_cust, id_vars=['customerID'], value_vars=['Dependents','Partner'])\n",
        "df3 = df2.groupby(['variable','value']).count().unstack()\n",
        "df3 = df3*100/len(telecom_cust)\n",
        "colors = ['#4D3425','#E4512B']\n",
        "ax = df3.loc[:,'customerID'].plot.bar(stacked=True, color=colors,\n",
        "                                      figsize=(8,6),rot = 0,\n",
        "                                     width = 0.2)\n",
        "\n",
        "ax.yaxis.set_major_formatter(mtick.PercentFormatter())\n",
        "ax.set_ylabel('% Customers',size = 14)\n",
        "ax.set_xlabel('')\n",
        "ax.set_title('% Customers with dependents and partners',size = 14)\n",
        "ax.legend(loc = 'center',prop={'size':14})\n",
        "\n",
        "for p in ax.patches:\n",
        "    width, height = p.get_width(), p.get_height()\n",
        "    x, y = p.get_xy()\n",
        "    ax.annotate('{:.0f}%'.format(height), (p.get_x()+.25*width, p.get_y()+.4*height),\n",
        "                color = 'white',\n",
        "               weight = 'bold',\n",
        "               size = 14)"
      ],
      "metadata": {
        "_uuid": "6127f191c43a00f8f0bc865c327ce0632e2eeb3e",
        "execution": {
          "iopub.status.busy": "2024-04-04T16:27:37.874869Z",
          "iopub.execute_input": "2024-04-04T16:27:37.875284Z",
          "iopub.status.idle": "2024-04-04T16:27:38.031309Z",
          "shell.execute_reply.started": "2024-04-04T16:27:37.875227Z",
          "shell.execute_reply": "2024-04-04T16:27:38.030561Z"
        },
        "trusted": true,
        "id": "xygp9lHV-rLf"
      },
      "execution_count": null,
      "outputs": []
    },
    {
      "cell_type": "markdown",
      "source": [
        "**What would be interesting is to look at the % of customers, who have partners, also have dependents. We will explore this next. **"
      ],
      "metadata": {
        "_uuid": "ef1d5a99fb546b501b2cb5b35d5fb437303b4c20",
        "id": "P57bwSUa-rLg"
      }
    },
    {
      "cell_type": "markdown",
      "source": [
        "Interestingly,  among the customers who have a partner, only about half of them also have a dependent, while other half do not have any independents.\n",
        "Additionally, as expected, among the customers who do not have any partner, a majority (80%) of them do not have any dependents ."
      ],
      "metadata": {
        "_uuid": "56ee88a7c14911a3cd79c3b885ac738377baf7aa",
        "trusted": true,
        "id": "9fpuN42D-rLg"
      }
    },
    {
      "cell_type": "code",
      "source": [
        "colors = ['#4D3425','#E4512B']\n",
        "partner_dependents = telecom_cust.groupby(['Partner','Dependents']).size().unstack()\n",
        "\n",
        "ax = (partner_dependents.T*100.0 / partner_dependents.T.sum()).T.plot(kind='bar',\n",
        "                                                                width = 0.2,\n",
        "                                                                stacked = True,\n",
        "                                                                rot = 0,\n",
        "                                                                figsize = (8,6),\n",
        "                                                                color = colors)\n",
        "ax.yaxis.set_major_formatter(mtick.PercentFormatter())\n",
        "ax.legend(loc='center',prop={'size':14},title = 'Dependents',fontsize =14)\n",
        "ax.set_ylabel('% Customers',size = 14)\n",
        "ax.set_title('% Customers with/without dependents based on whether they have a partner',size = 14)\n",
        "ax.xaxis.label.set_size(14)\n",
        "\n",
        "# Code to add the data labels on the stacked bar chart\n",
        "for p in ax.patches:\n",
        "    width, height = p.get_width(), p.get_height()\n",
        "    x, y = p.get_xy()\n",
        "    ax.annotate('{:.0f}%'.format(height), (p.get_x()+.25*width, p.get_y()+.4*height),\n",
        "                color = 'white',\n",
        "               weight = 'bold',\n",
        "               size = 14)"
      ],
      "metadata": {
        "_uuid": "f79c281d0cfab3cc8f14979d33834f8834ef9d2e",
        "execution": {
          "iopub.status.busy": "2024-04-04T16:27:38.032569Z",
          "iopub.execute_input": "2024-04-04T16:27:38.033072Z",
          "iopub.status.idle": "2024-04-04T16:27:38.205634Z",
          "shell.execute_reply.started": "2024-04-04T16:27:38.033017Z",
          "shell.execute_reply": "2024-04-04T16:27:38.204826Z"
        },
        "trusted": true,
        "id": "LFRNdn2c-rLh"
      },
      "execution_count": null,
      "outputs": []
    },
    {
      "cell_type": "markdown",
      "source": [
        "I also looked at any differences between the % of customers with/without dependents and partners by gender. There is no difference in their distribution by gender. Additionally, there is no difference in senior citizen status by gender."
      ],
      "metadata": {
        "_uuid": "3da3b87d7066955df9803b71931c5d5f7f5af1bb",
        "id": "ADqUSGYE-rLj"
      }
    },
    {
      "cell_type": "markdown",
      "source": [
        "### B.) **Customer Account Information**:  Let u now look at the tenure, contract"
      ],
      "metadata": {
        "_uuid": "479b11772e5d57dbf5a812abdd07a344e876c935",
        "trusted": true,
        "id": "aoa0bHoa-rLk"
      }
    },
    {
      "cell_type": "markdown",
      "source": [
        "**1. Tenure:**  After looking at the below histogram we can see that a lot of customers have been with the telecom company for just a month, while quite a many are there for about 72 months. This could be potentially because different customers have different contracts. Thus based on the contract they are into it could be more/less easier for the customers to stay/leave the telecom company."
      ],
      "metadata": {
        "_uuid": "d3090f6fd85039f6c67875eadf51d59b0d3c27a8",
        "id": "f4r6sutA-rLl"
      }
    },
    {
      "cell_type": "code",
      "source": [
        "ax = sns.distplot(telecom_cust['tenure'], hist=True, kde=False,\n",
        "             bins=int(180/5), color = 'darkblue',\n",
        "             hist_kws={'edgecolor':'black'},\n",
        "             kde_kws={'linewidth': 4})\n",
        "ax.set_ylabel('# of Customers')\n",
        "ax.set_xlabel('Tenure (months)')\n",
        "ax.set_title('# of Customers by their tenure')"
      ],
      "metadata": {
        "_uuid": "2b1dca3917424690fe006b38b03b46ebf1e751d4",
        "execution": {
          "iopub.status.busy": "2024-04-04T16:27:38.206872Z",
          "iopub.execute_input": "2024-04-04T16:27:38.207367Z",
          "iopub.status.idle": "2024-04-04T16:27:38.388051Z",
          "shell.execute_reply.started": "2024-04-04T16:27:38.20731Z",
          "shell.execute_reply": "2024-04-04T16:27:38.387402Z"
        },
        "trusted": true,
        "id": "ZNL5mUjM-rLl"
      },
      "execution_count": null,
      "outputs": []
    },
    {
      "cell_type": "markdown",
      "source": [
        "**2. Contracts:** To understand the above graph, lets first look at the # of customers by different contracts."
      ],
      "metadata": {
        "_uuid": "ce5fccc67da0ea51ed1bf9a3451d9aeedfb9cd77",
        "id": "MACA1Z4Y-rLm"
      }
    },
    {
      "cell_type": "code",
      "source": [
        "ax = telecom_cust['Contract'].value_counts().plot(kind = 'bar',rot = 0, width = 0.3)\n",
        "ax.set_ylabel('# of Customers')\n",
        "ax.set_title('# of Customers by Contract Type')"
      ],
      "metadata": {
        "_uuid": "b4589d9d041360eb2c1f33bafb61631fa3b1a29e",
        "execution": {
          "iopub.status.busy": "2024-04-04T16:27:38.389307Z",
          "iopub.execute_input": "2024-04-04T16:27:38.389824Z",
          "iopub.status.idle": "2024-04-04T16:27:38.511129Z",
          "shell.execute_reply.started": "2024-04-04T16:27:38.389768Z",
          "shell.execute_reply": "2024-04-04T16:27:38.510213Z"
        },
        "trusted": true,
        "id": "xPO2jHr8-rLm"
      },
      "execution_count": null,
      "outputs": []
    },
    {
      "cell_type": "markdown",
      "source": [
        "As we can see from this graph most of the customers are in the month to month contract. While there are equal number of customers in the 1 year and 2 year contracts.\n",
        "\n"
      ],
      "metadata": {
        "_uuid": "0acd43e2b09988ba4d5c0de03cfab1c8a7d684a0",
        "id": "vXHTATIj-rLn"
      }
    },
    {
      "cell_type": "markdown",
      "source": [
        "Below we will understand the tenure of customers based on their contract type."
      ],
      "metadata": {
        "_uuid": "cc6cac55a5511342b33fed0feaf3b9624788fd5a",
        "id": "DpLFJlKZ-rLo"
      }
    },
    {
      "cell_type": "code",
      "source": [
        "fig, (ax1,ax2,ax3) = plt.subplots(nrows=1, ncols=3, sharey = True, figsize = (20,6))\n",
        "\n",
        "ax = sns.distplot(telecom_cust[telecom_cust['Contract']=='Month-to-month']['tenure'],\n",
        "                   hist=True, kde=False,\n",
        "                   bins=int(180/5), color = 'turquoise',\n",
        "                   hist_kws={'edgecolor':'black'},\n",
        "                   kde_kws={'linewidth': 4},\n",
        "                 ax=ax1)\n",
        "ax.set_ylabel('# of Customers')\n",
        "ax.set_xlabel('Tenure (months)')\n",
        "ax.set_title('Month to Month Contract')\n",
        "\n",
        "ax = sns.distplot(telecom_cust[telecom_cust['Contract']=='One year']['tenure'],\n",
        "                   hist=True, kde=False,\n",
        "                   bins=int(180/5), color = 'steelblue',\n",
        "                   hist_kws={'edgecolor':'black'},\n",
        "                   kde_kws={'linewidth': 4},\n",
        "                 ax=ax2)\n",
        "ax.set_xlabel('Tenure (months)',size = 14)\n",
        "ax.set_title('One Year Contract',size = 14)\n",
        "\n",
        "ax = sns.distplot(telecom_cust[telecom_cust['Contract']=='Two year']['tenure'],\n",
        "                   hist=True, kde=False,\n",
        "                   bins=int(180/5), color = 'darkblue',\n",
        "                   hist_kws={'edgecolor':'black'},\n",
        "                   kde_kws={'linewidth': 4},\n",
        "                 ax=ax3)\n",
        "\n",
        "ax.set_xlabel('Tenure (months)')\n",
        "ax.set_title('Two Year Contract')"
      ],
      "metadata": {
        "_uuid": "1a616c81b2d4153d3470010a90f03fa25767a7ed",
        "execution": {
          "iopub.status.busy": "2024-04-04T16:27:38.512612Z",
          "iopub.execute_input": "2024-04-04T16:27:38.513124Z",
          "iopub.status.idle": "2024-04-04T16:27:39.003538Z",
          "shell.execute_reply.started": "2024-04-04T16:27:38.513062Z",
          "shell.execute_reply": "2024-04-04T16:27:39.002288Z"
        },
        "trusted": true,
        "id": "THASwqfq-rLo"
      },
      "execution_count": null,
      "outputs": []
    },
    {
      "cell_type": "markdown",
      "source": [
        "Interestingly most of the monthly contracts last for 1-2 months, while the 2 year contracts tend to last for about 70 months. This shows that the customers taking a longer contract are more loyal to the company and tend to stay with it for a longer period of time.\n",
        "\n",
        "This is also what we saw in the earlier chart on correlation with the churn rate."
      ],
      "metadata": {
        "_uuid": "ee2411d340eb9c03cd45cbaafd391bf60f61653c",
        "trusted": true,
        "id": "tf9XC_8C-rLp"
      }
    },
    {
      "cell_type": "markdown",
      "source": [
        "###  C. Let us now look at the distribution of various services used by customers"
      ],
      "metadata": {
        "_uuid": "7f912f0a732097de7c35920ea25ccf14cd05cc13",
        "id": "WJJsaxJH-rLq"
      }
    },
    {
      "cell_type": "code",
      "source": [
        "\n",
        "telecom_cust.columns.values"
      ],
      "metadata": {
        "_uuid": "961cdb51ddd3ccb110555b359394d823c33df66b",
        "execution": {
          "iopub.status.busy": "2024-04-04T16:27:39.005306Z",
          "iopub.execute_input": "2024-04-04T16:27:39.006057Z",
          "iopub.status.idle": "2024-04-04T16:27:39.011553Z",
          "shell.execute_reply.started": "2024-04-04T16:27:39.005978Z",
          "shell.execute_reply": "2024-04-04T16:27:39.010925Z"
        },
        "trusted": true,
        "id": "JKFyFHW9-rLq"
      },
      "execution_count": null,
      "outputs": []
    },
    {
      "cell_type": "code",
      "source": [
        "services = ['PhoneService','MultipleLines','InternetService','OnlineSecurity',\n",
        "           'OnlineBackup','DeviceProtection','TechSupport','StreamingTV','StreamingMovies']\n",
        "\n",
        "fig, axes = plt.subplots(nrows = 3,ncols = 3,figsize = (15,12))\n",
        "for i, item in enumerate(services):\n",
        "    if i < 3:\n",
        "        ax = telecom_cust[item].value_counts().plot(kind = 'bar',ax=axes[i,0],rot = 0)\n",
        "\n",
        "    elif i >=3 and i < 6:\n",
        "        ax = telecom_cust[item].value_counts().plot(kind = 'bar',ax=axes[i-3,1],rot = 0)\n",
        "\n",
        "    elif i < 9:\n",
        "        ax = telecom_cust[item].value_counts().plot(kind = 'bar',ax=axes[i-6,2],rot = 0)\n",
        "    ax.set_title(item)"
      ],
      "metadata": {
        "_uuid": "8503e680b82a2492bfed8f29dd2d13dafb7ed661",
        "execution": {
          "iopub.status.busy": "2024-04-04T16:27:39.012697Z",
          "iopub.execute_input": "2024-04-04T16:27:39.013163Z",
          "iopub.status.idle": "2024-04-04T16:27:39.964272Z",
          "shell.execute_reply.started": "2024-04-04T16:27:39.013113Z",
          "shell.execute_reply": "2024-04-04T16:27:39.963655Z"
        },
        "trusted": true,
        "id": "t6R5LPUO-rLr"
      },
      "execution_count": null,
      "outputs": []
    },
    {
      "cell_type": "markdown",
      "source": [
        "### D.) Now let's take a quick look at the relation between monthly and total charges"
      ],
      "metadata": {
        "_uuid": "fec8539f6336ca456276f67b6ffd72b8ceb3790e",
        "id": "LAqrhC66-rL-"
      }
    },
    {
      "cell_type": "markdown",
      "source": [
        "We will observe that the total charges increases as the monthly bill for a customer increases."
      ],
      "metadata": {
        "_uuid": "933ff48d2ebc4c4828a2c998b6f0428767475161",
        "id": "Ir2lUYq3-rL-"
      }
    },
    {
      "cell_type": "code",
      "source": [
        "telecom_cust[['MonthlyCharges', 'TotalCharges']].plot.scatter(x = 'MonthlyCharges',\n",
        "                                                              y='TotalCharges')"
      ],
      "metadata": {
        "_uuid": "4601f238e8fe13cbb815be90718086928a54041b",
        "execution": {
          "iopub.status.busy": "2024-04-04T16:27:39.965455Z",
          "iopub.execute_input": "2024-04-04T16:27:39.965873Z",
          "iopub.status.idle": "2024-04-04T16:27:40.171891Z",
          "shell.execute_reply.started": "2024-04-04T16:27:39.965824Z",
          "shell.execute_reply": "2024-04-04T16:27:40.171154Z"
        },
        "trusted": true,
        "id": "rrqEAfBe-rL_"
      },
      "execution_count": null,
      "outputs": []
    },
    {
      "cell_type": "markdown",
      "source": [
        "### E.) Finally, let's take a look at out predictor variable (Churn) and understand its interaction with other important variables as was found out in the correlation plot."
      ],
      "metadata": {
        "_uuid": "ad813734756bd9cf1d298aee1d4063beef47738f",
        "id": "jdqbb983-rMA"
      }
    },
    {
      "cell_type": "markdown",
      "source": [
        "1. Lets first look at the churn rate in our data"
      ],
      "metadata": {
        "_uuid": "67dea305467069a89007dd58a5906195ea0627d0",
        "id": "cbazu_Cq-rMA"
      }
    },
    {
      "cell_type": "code",
      "source": [
        "colors = ['#4D3425','#E4512B']\n",
        "ax = (telecom_cust['Churn'].value_counts()*100.0 /len(telecom_cust)).plot(kind='bar',\n",
        "                                                                           stacked = True,\n",
        "                                                                          rot = 0,\n",
        "                                                                          color = colors,\n",
        "                                                                         figsize = (8,6))\n",
        "ax.yaxis.set_major_formatter(mtick.PercentFormatter())\n",
        "ax.set_ylabel('% Customers',size = 14)\n",
        "ax.set_xlabel('Churn',size = 14)\n",
        "ax.set_title('Churn Rate', size = 14)\n",
        "\n",
        "# create a list to collect the plt.patches data\n",
        "totals = []\n",
        "\n",
        "# find the values and append to list\n",
        "for i in ax.patches:\n",
        "    totals.append(i.get_width())\n",
        "\n",
        "# set individual bar lables using above list\n",
        "total = sum(totals)\n",
        "\n",
        "for i in ax.patches:\n",
        "    # get_width pulls left or right; get_y pushes up or down\n",
        "    ax.text(i.get_x()+.15, i.get_height()-4.0, \\\n",
        "            str(round((i.get_height()/total), 1))+'%',\n",
        "            fontsize=12,\n",
        "            color='white',\n",
        "           weight = 'bold',\n",
        "           size = 14)"
      ],
      "metadata": {
        "_uuid": "4bef28080b360cbad4944abb2d4f75a440c525e9",
        "execution": {
          "iopub.status.busy": "2024-04-04T16:27:40.173116Z",
          "iopub.execute_input": "2024-04-04T16:27:40.173566Z",
          "iopub.status.idle": "2024-04-04T16:27:40.318743Z",
          "shell.execute_reply.started": "2024-04-04T16:27:40.173512Z",
          "shell.execute_reply": "2024-04-04T16:27:40.317582Z"
        },
        "trusted": true,
        "id": "6jOZpI6g-rMB"
      },
      "execution_count": null,
      "outputs": []
    },
    {
      "cell_type": "markdown",
      "source": [
        "In our data, 74% of the customers do not churn. Clearly the data is skewed as we would expect a large majority of the customers to not churn. This is important to keep in mind for our modelling as skeweness could lead to a lot of false negatives. We will see in the modelling section on how to avoid skewness in the data."
      ],
      "metadata": {
        "_uuid": "432a25bf5cd664b021617844ba945fce5c6f341b",
        "id": "sijktEyv-rMC"
      }
    },
    {
      "cell_type": "markdown",
      "source": [
        "2. Lets now explore the churn rate by tenure, seniority, contract type, monthly charges and total charges to see how it varies by these variables."
      ],
      "metadata": {
        "_uuid": "a9a182eb5bf7832d84072519b01f4ebc741da8a9",
        "id": "ZI7Oalwo-rMC"
      }
    },
    {
      "cell_type": "markdown",
      "source": [
        "**i.) Churn vs Tenure**: As we can see form the below plot, the customers who do not churn, they tend to stay for a longer tenure with the telecom company."
      ],
      "metadata": {
        "_uuid": "d6be674fd79a62315fe71699fb1164f31ed1446a",
        "id": "3BNPESbi-rMD"
      }
    },
    {
      "cell_type": "code",
      "source": [
        "sns.boxplot(x = telecom_cust.Churn, y = telecom_cust.tenure)"
      ],
      "metadata": {
        "_uuid": "e7643a6a6dac23d668aa512b3a922d68ed91abc4",
        "execution": {
          "iopub.status.busy": "2024-04-04T16:27:40.320102Z",
          "iopub.execute_input": "2024-04-04T16:27:40.320414Z",
          "iopub.status.idle": "2024-04-04T16:27:40.436494Z",
          "shell.execute_reply.started": "2024-04-04T16:27:40.320348Z",
          "shell.execute_reply": "2024-04-04T16:27:40.435887Z"
        },
        "trusted": true,
        "id": "Rr2f6XTh-rMF"
      },
      "execution_count": null,
      "outputs": []
    },
    {
      "cell_type": "markdown",
      "source": [
        "**ii.) Churn by Contract Type**: Similar to what we saw in the correlation plot, the customers who have a month to month contract have a very high churn rate."
      ],
      "metadata": {
        "_uuid": "6ef23d7c4fddda89f7ec7c9345851ccd4bcb5089",
        "id": "cznqxBFw-rMG"
      }
    },
    {
      "cell_type": "code",
      "source": [
        "colors = ['#4D3425','#E4512B']\n",
        "contract_churn = telecom_cust.groupby(['Contract','Churn']).size().unstack()\n",
        "\n",
        "ax = (contract_churn.T*100.0 / contract_churn.T.sum()).T.plot(kind='bar',\n",
        "                                                                width = 0.3,\n",
        "                                                                stacked = True,\n",
        "                                                                rot = 0,\n",
        "                                                                figsize = (10,6),\n",
        "                                                                color = colors)\n",
        "ax.yaxis.set_major_formatter(mtick.PercentFormatter())\n",
        "ax.legend(loc='best',prop={'size':14},title = 'Churn')\n",
        "ax.set_ylabel('% Customers',size = 14)\n",
        "ax.set_title('Churn by Contract Type',size = 14)\n",
        "\n",
        "# Code to add the data labels on the stacked bar chart\n",
        "for p in ax.patches:\n",
        "    width, height = p.get_width(), p.get_height()\n",
        "    x, y = p.get_xy()\n",
        "    ax.annotate('{:.0f}%'.format(height), (p.get_x()+.25*width, p.get_y()+.4*height),\n",
        "                color = 'white',\n",
        "               weight = 'bold',\n",
        "               size = 14)"
      ],
      "metadata": {
        "_uuid": "7ddbc6ac84fe48dcea91ce2a60a6103e2a10ad9f",
        "execution": {
          "iopub.status.busy": "2024-04-04T16:27:40.437791Z",
          "iopub.execute_input": "2024-04-04T16:27:40.438263Z",
          "iopub.status.idle": "2024-04-04T16:27:40.612104Z",
          "shell.execute_reply.started": "2024-04-04T16:27:40.438209Z",
          "shell.execute_reply": "2024-04-04T16:27:40.611272Z"
        },
        "trusted": true,
        "id": "2qKcreU4-rMH"
      },
      "execution_count": null,
      "outputs": []
    },
    {
      "cell_type": "markdown",
      "source": [
        "**iii.) Churn by Seniority**: Senior Citizens have almost double the churn rate than younger population."
      ],
      "metadata": {
        "_uuid": "d2975c96bb5c2ea1bcdf8c718aef1f3e8226a64c",
        "id": "Q9Qg2aEG-rMI"
      }
    },
    {
      "cell_type": "code",
      "source": [
        "colors = ['#4D3425','#E4512B']\n",
        "seniority_churn = telecom_cust.groupby(['SeniorCitizen','Churn']).size().unstack()\n",
        "\n",
        "ax = (seniority_churn.T*100.0 / seniority_churn.T.sum()).T.plot(kind='bar',\n",
        "                                                                width = 0.2,\n",
        "                                                                stacked = True,\n",
        "                                                                rot = 0,\n",
        "                                                                figsize = (8,6),\n",
        "                                                                color = colors)\n",
        "ax.yaxis.set_major_formatter(mtick.PercentFormatter())\n",
        "ax.legend(loc='center',prop={'size':14},title = 'Churn')\n",
        "ax.set_ylabel('% Customers')\n",
        "ax.set_title('Churn by Seniority Level',size = 14)\n",
        "\n",
        "# Code to add the data labels on the stacked bar chart\n",
        "for p in ax.patches:\n",
        "    width, height = p.get_width(), p.get_height()\n",
        "    x, y = p.get_xy()\n",
        "    ax.annotate('{:.0f}%'.format(height), (p.get_x()+.25*width, p.get_y()+.4*height),\n",
        "                color = 'white',\n",
        "               weight = 'bold',size =14)"
      ],
      "metadata": {
        "_uuid": "169bc4d753a4bb1368ffe02768481e35366d75e1",
        "execution": {
          "iopub.status.busy": "2024-04-04T16:27:40.613297Z",
          "iopub.execute_input": "2024-04-04T16:27:40.613775Z",
          "iopub.status.idle": "2024-04-04T16:27:40.769242Z",
          "shell.execute_reply.started": "2024-04-04T16:27:40.613714Z",
          "shell.execute_reply": "2024-04-04T16:27:40.768213Z"
        },
        "trusted": true,
        "id": "3NXG68wO-rMI"
      },
      "execution_count": null,
      "outputs": []
    },
    {
      "cell_type": "markdown",
      "source": [
        "**iv.) Churn by Monthly Charges**: Higher % of customers churn when the monthly charges are high."
      ],
      "metadata": {
        "_uuid": "bd0851a067af76d101f72fc4eb2f95bea547eda3",
        "trusted": true,
        "id": "lu-E_f7S-rMK"
      }
    },
    {
      "cell_type": "code",
      "source": [
        "ax = sns.kdeplot(telecom_cust.MonthlyCharges[(telecom_cust[\"Churn\"] == 'No') ],\n",
        "                color=\"Red\", shade = True)\n",
        "ax = sns.kdeplot(telecom_cust.MonthlyCharges[(telecom_cust[\"Churn\"] == 'Yes') ],\n",
        "                ax =ax, color=\"Blue\", shade= True)\n",
        "ax.legend([\"Not Churn\",\"Churn\"],loc='upper right')\n",
        "ax.set_ylabel('Density')\n",
        "ax.set_xlabel('Monthly Charges')\n",
        "ax.set_title('Distribution of monthly charges by churn')"
      ],
      "metadata": {
        "_uuid": "fa0b5fc6c8ee5f284c0f8515c297d6765cc2b807",
        "execution": {
          "iopub.status.busy": "2024-04-04T16:27:40.770799Z",
          "iopub.execute_input": "2024-04-04T16:27:40.771196Z",
          "iopub.status.idle": "2024-04-04T16:27:40.977473Z",
          "shell.execute_reply.started": "2024-04-04T16:27:40.771124Z",
          "shell.execute_reply": "2024-04-04T16:27:40.976352Z"
        },
        "trusted": true,
        "id": "AOa2mXYs-rML"
      },
      "execution_count": null,
      "outputs": []
    },
    {
      "cell_type": "markdown",
      "source": [
        "**v.) Churn by Total Charges**: It seems that there is higer churn when the total charges are lower."
      ],
      "metadata": {
        "_uuid": "f6cc05bc4205538c60a69ad00ce742118a21786d",
        "trusted": true,
        "id": "b4ZimyKh-rMM"
      }
    },
    {
      "cell_type": "code",
      "source": [
        "ax = sns.kdeplot(telecom_cust.TotalCharges[(telecom_cust[\"Churn\"] == 'No') ],\n",
        "                color=\"Red\", shade = True)\n",
        "ax = sns.kdeplot(telecom_cust.TotalCharges[(telecom_cust[\"Churn\"] == 'Yes') ],\n",
        "                ax =ax, color=\"Blue\", shade= True)\n",
        "ax.legend([\"Not Churn\",\"Churn\"],loc='upper right')\n",
        "ax.set_ylabel('Density')\n",
        "ax.set_xlabel('Total Charges')\n",
        "ax.set_title('Distribution of total charges by churn')"
      ],
      "metadata": {
        "_uuid": "73b499447ad1d100aae396cb5b7d16533f153219",
        "execution": {
          "iopub.status.busy": "2024-04-04T16:27:40.978827Z",
          "iopub.execute_input": "2024-04-04T16:27:40.979122Z",
          "iopub.status.idle": "2024-04-04T16:27:41.170314Z",
          "shell.execute_reply.started": "2024-04-04T16:27:40.979058Z",
          "shell.execute_reply": "2024-04-04T16:27:41.169194Z"
        },
        "trusted": true,
        "id": "k5ODg39i-rMN"
      },
      "execution_count": null,
      "outputs": []
    },
    {
      "cell_type": "markdown",
      "source": [
        "## After going through the above EDA we will develop some predictive models and compare them.\n",
        "\n",
        "We will develop Logistic Regression, Random Forest, SVM, ADA Boost and XG Boost"
      ],
      "metadata": {
        "_uuid": "a253e14489981fb89ac3a36849432549f442695d",
        "id": "AHpDhC2d-rMO"
      }
    },
    {
      "cell_type": "markdown",
      "source": [
        "**1. Logistic Regression**"
      ],
      "metadata": {
        "_uuid": "083086278a1073887b282a50a6399b1985224c1f",
        "id": "DS9vS6qq-rMP"
      }
    },
    {
      "cell_type": "code",
      "source": [
        "# We will use the data frame where we had created dummy variables\n",
        "y = df_dummies['Churn'].values\n",
        "X = df_dummies.drop(columns = ['Churn'])\n",
        "\n",
        "# Scaling all the variables to a range of 0 to 1\n",
        "from sklearn.preprocessing import MinMaxScaler\n",
        "features = X.columns.values\n",
        "scaler = MinMaxScaler(feature_range = (0,1))\n",
        "scaler.fit(X)\n",
        "X = pd.DataFrame(scaler.transform(X))\n",
        "X.columns = features"
      ],
      "metadata": {
        "_uuid": "7d13d788abc4ee9268338ad0539e6f8098ae9fd4",
        "execution": {
          "iopub.status.busy": "2024-04-04T16:27:41.171607Z",
          "iopub.execute_input": "2024-04-04T16:27:41.172048Z",
          "iopub.status.idle": "2024-04-04T16:27:41.472143Z",
          "shell.execute_reply.started": "2024-04-04T16:27:41.17199Z",
          "shell.execute_reply": "2024-04-04T16:27:41.471203Z"
        },
        "trusted": true,
        "id": "uQaI7b81-rMQ"
      },
      "execution_count": null,
      "outputs": []
    },
    {
      "cell_type": "markdown",
      "source": [
        "It is important to scale the variables in logistic regression so that all of them are within a range of 0 to 1. This helped me improve the accuracy from 79.7% to 80.7%. Further, you will notice below that the importance of variables is also aligned with what we are seeing in Random Forest algorithm and the EDA we conducted above."
      ],
      "metadata": {
        "_uuid": "84cd7e26d0c3e46555b53fadefd203b4adaa0da9",
        "id": "30b2I7AZ-rMR"
      }
    },
    {
      "cell_type": "code",
      "source": [
        "# Create Train & Test Data\n",
        "from sklearn.model_selection import train_test_split\n",
        "X_train, X_test, y_train, y_test = train_test_split(X, y, test_size=0.3, random_state=101)"
      ],
      "metadata": {
        "_uuid": "32367729f8ea962bb73cae8b88b6310dd811b6de",
        "execution": {
          "iopub.status.busy": "2024-04-04T16:27:41.473274Z",
          "iopub.execute_input": "2024-04-04T16:27:41.473532Z",
          "iopub.status.idle": "2024-04-04T16:27:41.52822Z",
          "shell.execute_reply.started": "2024-04-04T16:27:41.47349Z",
          "shell.execute_reply": "2024-04-04T16:27:41.52724Z"
        },
        "trusted": true,
        "id": "KVA8np3u-rMR"
      },
      "execution_count": null,
      "outputs": []
    },
    {
      "cell_type": "code",
      "source": [
        "# Running logistic regression model\n",
        "from sklearn.linear_model import LogisticRegression\n",
        "model = LogisticRegression()\n",
        "result = model.fit(X_train, y_train)"
      ],
      "metadata": {
        "_uuid": "998977bc5997ee4f9b5c45f3997523339ddc3943",
        "execution": {
          "iopub.status.busy": "2024-04-04T16:27:41.529358Z",
          "iopub.execute_input": "2024-04-04T16:27:41.529615Z",
          "iopub.status.idle": "2024-04-04T16:27:41.719271Z",
          "shell.execute_reply.started": "2024-04-04T16:27:41.529545Z",
          "shell.execute_reply": "2024-04-04T16:27:41.718021Z"
        },
        "trusted": true,
        "id": "gLikH3sf-rMS"
      },
      "execution_count": null,
      "outputs": []
    },
    {
      "cell_type": "code",
      "source": [
        "from sklearn import metrics\n",
        "prediction_test = model.predict(X_test)\n",
        "# Print the prediction accuracy\n",
        "print (metrics.accuracy_score(y_test, prediction_test))"
      ],
      "metadata": {
        "_uuid": "f7f3d7b6cad7e9754fc7480e004269000363ec29",
        "execution": {
          "iopub.status.busy": "2024-04-04T16:27:41.723163Z",
          "iopub.execute_input": "2024-04-04T16:27:41.72353Z",
          "iopub.status.idle": "2024-04-04T16:27:41.734333Z",
          "shell.execute_reply.started": "2024-04-04T16:27:41.723434Z",
          "shell.execute_reply": "2024-04-04T16:27:41.733631Z"
        },
        "trusted": true,
        "id": "hiaiDpRo-rMT"
      },
      "execution_count": null,
      "outputs": []
    },
    {
      "cell_type": "code",
      "source": [
        "# To get the weights of all the variables\n",
        "weights = pd.Series(model.coef_[0],\n",
        "                 index=X.columns.values)\n",
        "print (weights.sort_values(ascending = False)[:10].plot(kind='bar'))\n"
      ],
      "metadata": {
        "_uuid": "ea39ca61c3af331a45ff320add59e1aefab7da65",
        "execution": {
          "iopub.status.busy": "2024-04-04T16:27:41.735877Z",
          "iopub.execute_input": "2024-04-04T16:27:41.737412Z",
          "iopub.status.idle": "2024-04-04T16:27:41.890047Z",
          "shell.execute_reply.started": "2024-04-04T16:27:41.73735Z",
          "shell.execute_reply": "2024-04-04T16:27:41.88947Z"
        },
        "trusted": true,
        "id": "RqhLYH7L-rMW"
      },
      "execution_count": null,
      "outputs": []
    },
    {
      "cell_type": "code",
      "source": [
        "print(weights.sort_values(ascending = False)[-10:].plot(kind='bar'))"
      ],
      "metadata": {
        "_uuid": "6aef934353dce495ea49e3ba48fe9ef29e7a53f0",
        "execution": {
          "iopub.status.busy": "2024-04-04T16:27:41.89126Z",
          "iopub.execute_input": "2024-04-04T16:27:41.891771Z",
          "iopub.status.idle": "2024-04-04T16:27:42.034253Z",
          "shell.execute_reply.started": "2024-04-04T16:27:41.891717Z",
          "shell.execute_reply": "2024-04-04T16:27:42.033515Z"
        },
        "trusted": true,
        "id": "N8CK_o3E-rMX"
      },
      "execution_count": null,
      "outputs": []
    },
    {
      "cell_type": "markdown",
      "source": [
        "**Observations**\n",
        "\n",
        "We can see that some variables have a negative relation to our predicted variable (Churn), while some have positive relation. Negative relation means that likeliness of churn decreases with that variable. Let us summarize some of the interesting features below:\n",
        "* As we saw in our EDA, having a 2 month contract reduces chances of churn. 2 month contract along with tenure have the most negative relation with Churn as predicted by logistic regressions\n",
        "* Having DSL internet service also reduces the proability of Churn\n",
        "* Lastly, total charges, monthly contracts, fibre optic internet services and seniority can lead to higher churn rates. This is interesting because although fibre optic services are faster, customers are  likely to churn because of it. I think we need to explore more to better understad why this is happening.\n",
        "\n",
        "Any hypothesis on the above would be really helpful!"
      ],
      "metadata": {
        "_uuid": "185b83162c70e65203bdc387d036f7d24ae8c129",
        "id": "xaffMnO--rMY"
      }
    },
    {
      "cell_type": "markdown",
      "source": [
        "**2. Random Forest**"
      ],
      "metadata": {
        "_uuid": "d8ee107a6c58397a1f6f073032cde2c20c76fc15",
        "id": "UwN8gWCh-rMZ"
      }
    },
    {
      "cell_type": "code",
      "source": [
        "from sklearn.ensemble import RandomForestClassifier\n",
        "X_train, X_test, y_train, y_test = train_test_split(X, y, test_size=0.2, random_state=101)\n",
        "model_rf = RandomForestClassifier(n_estimators=1000 , oob_score = True, n_jobs = -1,\n",
        "                                  random_state =50, max_features = \"auto\",\n",
        "                                  max_leaf_nodes = 30)\n",
        "model_rf.fit(X_train, y_train)\n",
        "\n",
        "# Make predictions\n",
        "prediction_test = model_rf.predict(X_test)\n",
        "print (metrics.accuracy_score(y_test, prediction_test))"
      ],
      "metadata": {
        "_uuid": "352d2332ff650ec1e22521c46790629295bcb1c7",
        "execution": {
          "iopub.status.busy": "2024-04-04T16:27:42.035393Z",
          "iopub.execute_input": "2024-04-04T16:27:42.035788Z",
          "iopub.status.idle": "2024-04-04T16:27:45.217137Z",
          "shell.execute_reply.started": "2024-04-04T16:27:42.03574Z",
          "shell.execute_reply": "2024-04-04T16:27:45.215421Z"
        },
        "trusted": true,
        "id": "Zgt9FSDD-rMZ"
      },
      "execution_count": null,
      "outputs": []
    },
    {
      "cell_type": "code",
      "source": [
        "importances = model_rf.feature_importances_\n",
        "weights = pd.Series(importances,\n",
        "                 index=X.columns.values)\n",
        "weights.sort_values()[-10:].plot(kind = 'barh')"
      ],
      "metadata": {
        "_uuid": "ad587d99c32b5998fae79beaf9b508c4345e8ad2",
        "execution": {
          "iopub.status.busy": "2024-04-04T16:27:45.21925Z",
          "iopub.execute_input": "2024-04-04T16:27:45.219656Z",
          "iopub.status.idle": "2024-04-04T16:27:45.56214Z",
          "shell.execute_reply.started": "2024-04-04T16:27:45.219559Z",
          "shell.execute_reply": "2024-04-04T16:27:45.561613Z"
        },
        "trusted": true,
        "id": "J-DiUkfd-rMa"
      },
      "execution_count": null,
      "outputs": []
    },
    {
      "cell_type": "markdown",
      "source": [
        "**Observations:**\n",
        "\n",
        "* From random forest algorithm, monthly contract, tenure and total charges are the most important predictor variables to predict churn.\n",
        "* The results from random forest are very similar to that of the logistic regression and in line to what we had expected from our EDA"
      ],
      "metadata": {
        "_uuid": "8dc6a21dd39575a473ca7d7e8575bd192a313027",
        "id": "3_tqDsUV-rMb"
      }
    },
    {
      "cell_type": "markdown",
      "source": [
        "**3. Support Vecor Machine (SVM)**"
      ],
      "metadata": {
        "_uuid": "d66067184c40bb775576854fcd1d2d00d1e2ada5",
        "id": "yFWEjdE3-rMc"
      }
    },
    {
      "cell_type": "code",
      "source": [
        "X_train, X_test, y_train, y_test = train_test_split(X, y, test_size=0.2, random_state=99)"
      ],
      "metadata": {
        "_uuid": "2efb7cabe5d6c1ec276becf6d036f8eea3b8d492",
        "execution": {
          "iopub.status.busy": "2024-04-04T16:27:45.563166Z",
          "iopub.execute_input": "2024-04-04T16:27:45.56355Z",
          "iopub.status.idle": "2024-04-04T16:27:45.574302Z",
          "shell.execute_reply.started": "2024-04-04T16:27:45.563503Z",
          "shell.execute_reply": "2024-04-04T16:27:45.573649Z"
        },
        "trusted": true,
        "id": "wnq-Q2uM-rMc"
      },
      "execution_count": null,
      "outputs": []
    },
    {
      "cell_type": "code",
      "source": [
        "from sklearn.svm import SVC\n",
        "\n",
        "model.svm = SVC(kernel='linear')\n",
        "model.svm.fit(X_train,y_train)\n",
        "preds = model.svm.predict(X_test)\n",
        "metrics.accuracy_score(y_test, preds)"
      ],
      "metadata": {
        "_uuid": "9bd8fcf307bdf2092e6b2e2cd3dfc12e82400e19",
        "execution": {
          "iopub.status.busy": "2024-04-04T16:27:45.575427Z",
          "iopub.execute_input": "2024-04-04T16:27:45.57587Z",
          "iopub.status.idle": "2024-04-04T16:27:46.616663Z",
          "shell.execute_reply.started": "2024-04-04T16:27:45.575823Z",
          "shell.execute_reply": "2024-04-04T16:27:46.615985Z"
        },
        "trusted": true,
        "id": "8gDQh04--rMd"
      },
      "execution_count": null,
      "outputs": []
    },
    {
      "cell_type": "code",
      "source": [
        "# Create the Confusion matrix\n",
        "from sklearn.metrics import classification_report, confusion_matrix\n",
        "print(confusion_matrix(y_test,preds))"
      ],
      "metadata": {
        "_uuid": "231b49ac18e47fa50c817b4ee1915af17c9d3cd2",
        "execution": {
          "iopub.status.busy": "2024-04-04T16:27:46.617864Z",
          "iopub.execute_input": "2024-04-04T16:27:46.618088Z",
          "iopub.status.idle": "2024-04-04T16:27:46.626962Z",
          "shell.execute_reply.started": "2024-04-04T16:27:46.618043Z",
          "shell.execute_reply": "2024-04-04T16:27:46.625492Z"
        },
        "trusted": true,
        "id": "EQg95_3x-rMe"
      },
      "execution_count": null,
      "outputs": []
    },
    {
      "cell_type": "markdown",
      "source": [
        "Wth SVM I was able to increase the accuracy to upto 82%. However, we need to take a deeper look at the true positive and true negative rates, including the Area Under the Curve (AUC) for a better prediction. I will explore this soon. Stay Tuned!"
      ],
      "metadata": {
        "_uuid": "126ddb51cd0b24313451a303d7685c6f68335823",
        "id": "WFLo7pjy-rMe"
      }
    },
    {
      "cell_type": "code",
      "source": [
        "ax1 = sns.catplot(x=\"gender\", kind=\"count\", hue=\"Churn\", data=telecom_cust,\n",
        "                  estimator=lambda x: sum(x==0)*100.0/len(x))\n",
        "#ax1.yaxis.set_major_formatter(mtick.PercentFormatter())"
      ],
      "metadata": {
        "_uuid": "9cafbb06245f6162da782bf0aa99faa3f6f9029d",
        "execution": {
          "iopub.status.busy": "2024-04-04T16:27:46.628525Z",
          "iopub.execute_input": "2024-04-04T16:27:46.628796Z",
          "iopub.status.idle": "2024-04-04T16:27:46.85251Z",
          "shell.execute_reply.started": "2024-04-04T16:27:46.628749Z",
          "shell.execute_reply": "2024-04-04T16:27:46.851501Z"
        },
        "trusted": true,
        "id": "XJy4jlvT-rMf"
      },
      "execution_count": null,
      "outputs": []
    },
    {
      "cell_type": "markdown",
      "source": [
        "**4. ADA Boost**"
      ],
      "metadata": {
        "_uuid": "46dcb2e6e42d4445cb046632fc70be3ecf7b4380",
        "trusted": true,
        "id": "SIPSGJP2-rMg"
      }
    },
    {
      "cell_type": "code",
      "source": [
        "# AdaBoost Algorithm\n",
        "from sklearn.ensemble import AdaBoostClassifier\n",
        "model = AdaBoostClassifier()\n",
        "# n_estimators = 50 (default value)\n",
        "# base_estimator = DecisionTreeClassifier (default value)\n",
        "model.fit(X_train,y_train)\n",
        "preds = model.predict(X_test)\n",
        "metrics.accuracy_score(y_test, preds)"
      ],
      "metadata": {
        "_uuid": "92f12399305244a20814918747d8cc2cf69f2937",
        "execution": {
          "iopub.status.busy": "2024-04-04T16:27:46.853621Z",
          "iopub.execute_input": "2024-04-04T16:27:46.853863Z",
          "iopub.status.idle": "2024-04-04T16:27:47.221234Z",
          "shell.execute_reply.started": "2024-04-04T16:27:46.853818Z",
          "shell.execute_reply": "2024-04-04T16:27:47.219898Z"
        },
        "trusted": true,
        "id": "okvZ5X_E-rMh"
      },
      "execution_count": null,
      "outputs": []
    },
    {
      "cell_type": "markdown",
      "source": [
        "**5. XG Boost**"
      ],
      "metadata": {
        "_uuid": "31346f118c08fced007e555f3a7ad5ad9605a7ff",
        "id": "zweX-93U-rMi"
      }
    },
    {
      "cell_type": "code",
      "source": [
        "from xgboost import XGBClassifier\n",
        "model = XGBClassifier()\n",
        "model.fit(X_train, y_train)\n",
        "preds = model.predict(X_test)\n",
        "metrics.accuracy_score(y_test, preds)"
      ],
      "metadata": {
        "_uuid": "066ba20180ea27da8c3cea15ce50aaeac9fdd3bd",
        "execution": {
          "iopub.status.busy": "2024-04-04T16:27:47.224804Z",
          "iopub.execute_input": "2024-04-04T16:27:47.225111Z",
          "iopub.status.idle": "2024-04-04T16:27:48.163393Z",
          "shell.execute_reply.started": "2024-04-04T16:27:47.225056Z",
          "shell.execute_reply": "2024-04-04T16:27:48.162241Z"
        },
        "trusted": true,
        "id": "R8O2cBra-rMj"
      },
      "execution_count": null,
      "outputs": []
    },
    {
      "cell_type": "markdown",
      "source": [
        "Interestingly with XG Boost I was able to increase the accuracy on test data to almost 83%. Clearly, XG Boost is a winner among all other techniques. XG Boost is a slow learning model and is based on the concept of Boosting"
      ],
      "metadata": {
        "_uuid": "1c83a1110098ada08a1906c3e94640041233d7ec",
        "trusted": true,
        "id": "tSSAMFzv-rMn"
      }
    },
    {
      "cell_type": "code",
      "source": [],
      "metadata": {
        "_uuid": "cbec8a2cae9d2eecca9bd67615ad0a872d6798cd",
        "trusted": true,
        "id": "kubZtUGa-rMo"
      },
      "execution_count": null,
      "outputs": []
    },
    {
      "cell_type": "code",
      "source": [],
      "metadata": {
        "_uuid": "be91e75914f903731e51071fd016d37fab5aea9c",
        "trusted": true,
        "id": "I0M2R2s_-rMp"
      },
      "execution_count": null,
      "outputs": []
    },
    {
      "cell_type": "code",
      "source": [],
      "metadata": {
        "_uuid": "cd674667c7c64578dadf6592fa2c589acca609b2",
        "trusted": true,
        "id": "gGCYeXFQ-rMq"
      },
      "execution_count": null,
      "outputs": []
    },
    {
      "cell_type": "code",
      "source": [],
      "metadata": {
        "_uuid": "60d3c7e1ee4f9443aff5ba7f5a5bb6d927d1bf9f",
        "trusted": true,
        "id": "IXPKrLji-rMr"
      },
      "execution_count": null,
      "outputs": []
    },
    {
      "cell_type": "code",
      "source": [],
      "metadata": {
        "_uuid": "edbdc29727f6a2483dd6d04bb1aaeabdc78e6940",
        "trusted": true,
        "id": "vJ5eanoY-rMs"
      },
      "execution_count": null,
      "outputs": []
    },
    {
      "cell_type": "code",
      "source": [],
      "metadata": {
        "_uuid": "fe91d5c80014ea127fe42e51cb4afaab2f06cbab",
        "trusted": true,
        "id": "fX541rl4-rMt"
      },
      "execution_count": null,
      "outputs": []
    },
    {
      "cell_type": "code",
      "source": [],
      "metadata": {
        "_uuid": "06d3c06a5fb1b35ac9f720257038d27b562de484",
        "trusted": true,
        "id": "wBL172uv-rMu"
      },
      "execution_count": null,
      "outputs": []
    },
    {
      "cell_type": "code",
      "source": [],
      "metadata": {
        "_uuid": "7d9ba302703ee763be6f55044f0c78c30708bfbf",
        "trusted": true,
        "id": "6z_mLyWZ-rMv"
      },
      "execution_count": null,
      "outputs": []
    },
    {
      "cell_type": "code",
      "source": [],
      "metadata": {
        "_uuid": "c70253a91982c549db465f8af9b9e709c32b956a",
        "trusted": true,
        "id": "Gxd6Fkre-rNE"
      },
      "execution_count": null,
      "outputs": []
    },
    {
      "cell_type": "code",
      "source": [],
      "metadata": {
        "_uuid": "f35d1da67a838367b1d781a5d3ed58e9cbaa8f4e",
        "trusted": true,
        "id": "7GQrAK1T-rNF"
      },
      "execution_count": null,
      "outputs": []
    }
  ]
}